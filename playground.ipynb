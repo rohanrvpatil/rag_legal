{
 "cells": [
  {
   "cell_type": "code",
   "execution_count": 1,
   "metadata": {},
   "outputs": [
    {
     "name": "stdout",
     "output_type": "stream",
     "text": [
      "Extracted numbers: [1949]\n"
     ]
    }
   ],
   "source": [
    "import re\n",
    "\n",
    "\n",
    "\n",
    "def extract_and_convert_numbers(text):\n",
    "\n",
    "    # Find all numeric patterns in the text\n",
    "\n",
    "    numeric_strings = re.findall(r\"\\b\\d+\\b\", text)  # This will find standalone numbers\n",
    "\n",
    "\n",
    "    valid_numbers = []\n",
    "\n",
    "    for num_str in numeric_strings:\n",
    "\n",
    "        try:\n",
    "\n",
    "            # Attempt to convert to integer\n",
    "\n",
    "            valid_numbers.append(int(num_str))\n",
    "\n",
    "        except ValueError:\n",
    "\n",
    "            # Handle the case where conversion fails\n",
    "\n",
    "            print(f\"Could not convert '{num_str}' to an integer.\")\n",
    "\n",
    "    return valid_numbers\n",
    "\n",
    "\n",
    "\n",
    "# Example input text\n",
    "\n",
    "text = \"appeal lxvi 1949 appeal\"\n",
    "\n",
    "\n",
    "# Extract valid numbers\n",
    "\n",
    "numbers = extract_and_convert_numbers(text)\n",
    "\n",
    "print(\"Extracted numbers:\", numbers)"
   ]
  },
  {
   "cell_type": "code",
   "execution_count": null,
   "metadata": {},
   "outputs": [
    {
     "name": "stdout",
     "output_type": "stream",
     "text": [
      "True\n"
     ]
    }
   ],
   "source": [
    "import torch\n",
    "\n",
    "\n",
    "print(torch.cuda.is_available())"
   ]
  },
  {
   "cell_type": "code",
   "execution_count": null,
   "metadata": {},
   "outputs": [
    {
     "name": "stdout",
     "output_type": "stream",
     "text": [
      "NVIDIA GeForce GTX 1050\n"
     ]
    }
   ],
   "source": [
    "print(torch.cuda.get_device_name(0))"
   ]
  },
  {
   "cell_type": "code",
   "execution_count": null,
   "metadata": {},
   "outputs": [],
   "source": [
    "%pip install -qU langchain-groq\n",
    "%pip install langchain pinecone-client python-dotenv streamlit\n",
    "%pip install -U langchain-community\n",
    "%pip install sentence-transformers\n",
    "%pip install pinecone-client\n",
    "%pip install pinecone-client[grpc]\n",
    "%pip install --upgrade langchain-pinecone\n",
    "%pip install pymupdf pdfplumber\n",
    "%pip install xmltodict"
   ]
  },
  {
   "cell_type": "code",
   "execution_count": null,
   "metadata": {},
   "outputs": [],
   "source": [
    "import getpass\n",
    "import os\n",
    "\n",
    "os.environ[\"GROQ_API_KEY\"] = getpass.getpass()\n",
    "\n",
    "# Groq is used as the LLM\n",
    "from langchain_groq import ChatGroq\n",
    "\n",
    "llm = ChatGroq(model=\"llama3-8b-8192\")"
   ]
  }
 ],
 "metadata": {
  "kernelspec": {
   "display_name": "base",
   "language": "python",
   "name": "python3"
  },
  "language_info": {
   "codemirror_mode": {
    "name": "ipython",
    "version": 3
   },
   "file_extension": ".py",
   "mimetype": "text/x-python",
   "name": "python",
   "nbconvert_exporter": "python",
   "pygments_lexer": "ipython3",
   "version": "3.11.7"
  }
 },
 "nbformat": 4,
 "nbformat_minor": 2
}
