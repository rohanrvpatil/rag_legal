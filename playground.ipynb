{
 "cells": [
  {
   "cell_type": "code",
   "execution_count": 1,
   "metadata": {},
   "outputs": [
    {
     "name": "stdout",
     "output_type": "stream",
     "text": [
      "Extracted numbers: [1949]\n"
     ]
    }
   ],
   "source": [
    "import re\n",
    "\n",
    "\n",
    "def extract_and_convert_numbers(text):\n",
    "    # Find all numeric patterns in the text\n",
    "    numeric_strings = re.findall(r\"\\b\\d+\\b\", text)  # This will find standalone numbers\n",
    "\n",
    "    valid_numbers = []\n",
    "    for num_str in numeric_strings:\n",
    "        try:\n",
    "            # Attempt to convert to integer\n",
    "            valid_numbers.append(int(num_str))\n",
    "        except ValueError:\n",
    "            # Handle the case where conversion fails\n",
    "            print(f\"Could not convert '{num_str}' to an integer.\")\n",
    "\n",
    "    return valid_numbers\n",
    "\n",
    "\n",
    "# Example input text\n",
    "text = \"appeal lxvi 1949 appeal\"\n",
    "\n",
    "# Extract valid numbers\n",
    "numbers = extract_and_convert_numbers(text)\n",
    "print(\"Extracted numbers:\", numbers)"
   ]
  }
 ],
 "metadata": {
  "kernelspec": {
   "display_name": "base",
   "language": "python",
   "name": "python3"
  },
  "language_info": {
   "codemirror_mode": {
    "name": "ipython",
    "version": 3
   },
   "file_extension": ".py",
   "mimetype": "text/x-python",
   "name": "python",
   "nbconvert_exporter": "python",
   "pygments_lexer": "ipython3",
   "version": "3.11.7"
  }
 },
 "nbformat": 4,
 "nbformat_minor": 2
}
