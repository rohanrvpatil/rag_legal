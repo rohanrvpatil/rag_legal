{
 "cells": [
  {
   "cell_type": "code",
   "execution_count": null,
   "metadata": {
    "tags": [
     "no_run"
    ]
   },
   "outputs": [],
   "source": [
    "%pip install -qU langchain-groq\n",
    "%pip install langchain pinecone-client python-dotenv streamlit\n",
    "%pip install -U langchain-community\n",
    "%pip install sentence-transformers\n",
    "%pip install pinecone-client\n",
    "%pip install pinecone-client[grpc]\n",
    "%pip install --upgrade langchain-pinecone\n",
    "%pip install pymupdf pdfplumber\n",
    "%pip install xmltodict"
   ]
  },
  {
   "cell_type": "markdown",
   "metadata": {},
   "source": [
    "Project Description: Legal Document Analysis and Summarization Tool using RAG"
   ]
  },
  {
   "cell_type": "code",
   "execution_count": 7,
   "metadata": {},
   "outputs": [],
   "source": [
    "import getpass\n",
    "import os\n",
    "\n",
    "os.environ[\"GROQ_API_KEY\"] = getpass.getpass()\n",
    "\n",
    "# Groq is used as the LLM\n",
    "from langchain_groq import ChatGroq\n",
    "\n",
    "llm = ChatGroq(model=\"llama3-8b-8192\")"
   ]
  },
  {
   "cell_type": "code",
   "execution_count": 4,
   "metadata": {},
   "outputs": [
    {
     "name": "stdout",
     "output_type": "stream",
     "text": [
      "Error parsing D:\\Rohan\\ML\\Datasets\\legal_corpus_australia\\fulltext\\06_3.xml: not well-formed (invalid token): line 6, column 13\n",
      "None\n"
     ]
    }
   ],
   "source": [
    "#reading single xml file\n",
    "\n",
    "import xml.etree.ElementTree as ET\n",
    "\n",
    "# Function to parse a single XML file and define the structure\n",
    "def parse_xml(file_path):\n",
    "    try:\n",
    "        # Parse the XML file\n",
    "        tree = ET.parse(file_path)\n",
    "        root = tree.getroot()\n",
    "        \n",
    "        # Define the structure of case_data based on the XML content\n",
    "        case_data = {\n",
    "            \"name\": root.find('name').text,\n",
    "            \"AustLII\": root.find('AustLII').text,\n",
    "            \"catchphrases\": [cp.text for cp in root.find('catchphrases').findall('catchphrase')],\n",
    "            \"sentences\": [s.text for s in root.find('sentences').findall('sentence')]\n",
    "        }\n",
    "        return case_data\n",
    "    except ET.ParseError as e:\n",
    "        print(f\"Error parsing {file_path}: {e}\")\n",
    "    except Exception as e:\n",
    "        print(f\"Unexpected error parsing {file_path}: {e}\")\n",
    "\n",
    "file_path = r\"D:\\Rohan\\ML\\Datasets\\legal_corpus_australia\\fulltext\\06_3.xml\"\n",
    "parsed_data = parse_xml(file_path)\n",
    "print(parsed_data)"
   ]
  },
  {
   "cell_type": "code",
   "execution_count": 11,
   "metadata": {},
   "outputs": [
    {
     "ename": "ParseError",
     "evalue": "not well-formed (invalid token): line 6, column 13 (<string>)",
     "output_type": "error",
     "traceback": [
      "Traceback \u001b[1;36m(most recent call last)\u001b[0m:\n",
      "\u001b[0m  File \u001b[0;32md:\\ProgramFiles\\Anaconda\\Lib\\site-packages\\IPython\\core\\interactiveshell.py:3553\u001b[0m in \u001b[0;35mrun_code\u001b[0m\n    exec(code_obj, self.user_global_ns, self.user_ns)\u001b[0m\n",
      "\u001b[0m  Cell \u001b[0;32mIn[11], line 79\u001b[0m\n    fulltext_data = parse_folder(\u001b[0m\n",
      "\u001b[0m  Cell \u001b[0;32mIn[11], line 74\u001b[0m in \u001b[0;35mparse_folder\u001b[0m\n    data.append(parse_function(file_path))\u001b[0m\n",
      "\u001b[0m  Cell \u001b[0;32mIn[11], line 8\u001b[0m in \u001b[0;35mparse_fulltext\u001b[0m\n    tree = ET.parse(file_path)\u001b[0m\n",
      "\u001b[0m  File \u001b[0;32md:\\ProgramFiles\\Anaconda\\Lib\\xml\\etree\\ElementTree.py:1218\u001b[0m in \u001b[0;35mparse\u001b[0m\n    tree.parse(source, parser)\u001b[0m\n",
      "\u001b[1;36m  File \u001b[1;32md:\\ProgramFiles\\Anaconda\\Lib\\xml\\etree\\ElementTree.py:580\u001b[1;36m in \u001b[1;35mparse\u001b[1;36m\n\u001b[1;33m    self._root = parser._parse_whole(source)\u001b[1;36m\n",
      "\u001b[1;36m  File \u001b[1;32m<string>\u001b[1;36m\u001b[0m\n\u001b[1;31mParseError\u001b[0m\u001b[1;31m:\u001b[0m not well-formed (invalid token): line 6, column 13\n"
     ]
    }
   ],
   "source": [
    "# reading and storing legal data\n",
    "\n",
    "import xml.etree.ElementTree as ET\n",
    "import os\n",
    "\n",
    "\n",
    "def parse_fulltext(file_path):\n",
    "    tree = ET.parse(file_path)\n",
    "    root = tree.getroot()\n",
    "\n",
    "    case_data = {\n",
    "        \"name\": root.find(\"name\").text,\n",
    "        \"AustLII\": root.find(\"AustLII\").text,\n",
    "        \"catchphrases\": [\n",
    "            cp.text for cp in root.find(\"catchphrases\").findall(\"catchphrase\")\n",
    "        ],\n",
    "        \"sentences\": [s.text for s in root.find(\"sentences\").findall(\"sentence\")],\n",
    "    }\n",
    "    return case_data\n",
    "\n",
    "\n",
    "def parse_citations_summ(file_path):\n",
    "    tree = ET.parse(file_path)\n",
    "    root = tree.getroot()\n",
    "\n",
    "    case_data = {\n",
    "        \"name\": root.find(\"name\").text,\n",
    "        \"AustLII\": root.find(\"AustLII\").text,\n",
    "        \"citphrases\": [\n",
    "            {\n",
    "                \"id\": cp.attrib[\"id\"],\n",
    "                \"type\": cp.attrib[\"type\"],\n",
    "                \"from\": cp.attrib[\"from\"],\n",
    "                \"text\": cp.text,\n",
    "            }\n",
    "            for cp in root.find(\"citphrases\").findall(\"citphrase\")\n",
    "        ],\n",
    "        \"citances\": [\n",
    "            {\"id\": ca.attrib[\"id\"], \"from\": ca.attrib[\"from\"], \"text\": ca.text}\n",
    "            for ca in root.find(\"citances\").findall(\"citance\")\n",
    "        ],\n",
    "        \"legistitles\": [lt.text for lt in root.find(\"legistitles\").findall(\"title\")],\n",
    "    }\n",
    "    return case_data\n",
    "\n",
    "\n",
    "def parse_citations_class(file_path):\n",
    "    tree = ET.parse(file_path)\n",
    "    root = tree.getroot()\n",
    "\n",
    "    case_data = {\n",
    "        \"name\": root.find(\"name\").text,\n",
    "        \"AustLII\": root.find(\"AustLII\").text,\n",
    "        \"citations\": [\n",
    "            {\n",
    "                \"id\": c.attrib[\"id\"],\n",
    "                \"class\": c.find(\"class\").text,\n",
    "                \"tocase\": c.find(\"tocase\").text,\n",
    "                \"AustLII\": c.find(\"AustLII\").text,\n",
    "                \"text\": c.find(\"text\").text,\n",
    "            }\n",
    "            for c in root.find(\"citations\").findall(\"citation\")\n",
    "        ],\n",
    "    }\n",
    "    return case_data\n",
    "\n",
    "\n",
    "# Helper function to parse all XML files in a folder\n",
    "def parse_folder(folder_path, parse_function):\n",
    "    data = []\n",
    "    for file_name in os.listdir(folder_path):\n",
    "        if file_name.endswith(\".xml\"):\n",
    "            file_path = os.path.join(folder_path, file_name)\n",
    "            data.append(parse_function(file_path))\n",
    "    return data\n",
    "\n",
    "\n",
    "# Example usage\n",
    "fulltext_data = parse_folder(\n",
    "    r\"D:\\Rohan\\ML\\Datasets\\legal_corpus_australia\\fulltext\", parse_fulltext\n",
    ")\n",
    "citations_summ_data = parse_folder(\n",
    "    r\"D:\\Rohan\\ML\\Datasets\\legal_corpus_australia\\citations_summ\", parse_citations_summ\n",
    ")\n",
    "citations_class_data = parse_folder(\n",
    "    r\"D:\\Rohan\\ML\\Datasets\\legal_corpus_australia\\citations_class\", parse_citations_class\n",
    ")\n",
    "\n",
    "# Print sample data\n",
    "print(fulltext_data[0])\n",
    "print(citations_summ_data[0])\n",
    "print(citations_class_data[0])"
   ]
  }
 ],
 "metadata": {
  "kernelspec": {
   "display_name": "base",
   "language": "python",
   "name": "python3"
  },
  "language_info": {
   "codemirror_mode": {
    "name": "ipython",
    "version": 3
   },
   "file_extension": ".py",
   "mimetype": "text/x-python",
   "name": "python",
   "nbconvert_exporter": "python",
   "pygments_lexer": "ipython3",
   "version": "3.11.7"
  }
 },
 "nbformat": 4,
 "nbformat_minor": 2
}
